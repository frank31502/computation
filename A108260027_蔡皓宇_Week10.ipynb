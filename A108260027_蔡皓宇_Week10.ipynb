{
  "nbformat": 4,
  "nbformat_minor": 0,
  "metadata": {
    "colab": {
      "name": "A108260027-蔡皓宇-Week10.ipynb",
      "provenance": [],
      "include_colab_link": true
    },
    "kernelspec": {
      "name": "python2",
      "display_name": "Python 2"
    }
  },
  "cells": [
    {
      "cell_type": "markdown",
      "metadata": {
        "id": "view-in-github",
        "colab_type": "text"
      },
      "source": [
        "<a href=\"https://colab.research.google.com/github/frank31502/computation/blob/master/A108260027_%E8%94%A1%E7%9A%93%E5%AE%87_Week10.ipynb\" target=\"_parent\"><img src=\"https://colab.research.google.com/assets/colab-badge.svg\" alt=\"Open In Colab\"/></a>"
      ]
    },
    {
      "cell_type": "code",
      "metadata": {
        "id": "xFPH38vk2oEy",
        "colab_type": "code",
        "colab": {
          "base_uri": "https://localhost:8080/",
          "height": 187
        },
        "outputId": "dfcda664-9eb2-46fa-f163-e317da2fef4f"
      },
      "source": [
        "\n",
        "x = 0 \n",
        "while x < 10:\n",
        " print(\"hello\")\n",
        " x = x + 1"
      ],
      "execution_count": 1,
      "outputs": [
        {
          "output_type": "stream",
          "text": [
            "hello\n",
            "hello\n",
            "hello\n",
            "hello\n",
            "hello\n",
            "hello\n",
            "hello\n",
            "hello\n",
            "hello\n",
            "hello\n"
          ],
          "name": "stdout"
        }
      ]
    },
    {
      "cell_type": "code",
      "metadata": {
        "id": "q6h8mZa-2sox",
        "colab_type": "code",
        "colab": {
          "base_uri": "https://localhost:8080/",
          "height": 187
        },
        "outputId": "ab572bbb-cd1b-4119-bfc8-4c8cfdd6e4ec"
      },
      "source": [
        "times = 0 \n",
        "while times < 10: \n",
        " times = times + 1 \n",
        " print(\"這是第\", times, \"次的hello\")"
      ],
      "execution_count": 3,
      "outputs": [
        {
          "output_type": "stream",
          "text": [
            "('\\xe9\\x80\\x99\\xe6\\x98\\xaf\\xe7\\xac\\xac', 1, '\\xe6\\xac\\xa1\\xe7\\x9a\\x84hello')\n",
            "('\\xe9\\x80\\x99\\xe6\\x98\\xaf\\xe7\\xac\\xac', 2, '\\xe6\\xac\\xa1\\xe7\\x9a\\x84hello')\n",
            "('\\xe9\\x80\\x99\\xe6\\x98\\xaf\\xe7\\xac\\xac', 3, '\\xe6\\xac\\xa1\\xe7\\x9a\\x84hello')\n",
            "('\\xe9\\x80\\x99\\xe6\\x98\\xaf\\xe7\\xac\\xac', 4, '\\xe6\\xac\\xa1\\xe7\\x9a\\x84hello')\n",
            "('\\xe9\\x80\\x99\\xe6\\x98\\xaf\\xe7\\xac\\xac', 5, '\\xe6\\xac\\xa1\\xe7\\x9a\\x84hello')\n",
            "('\\xe9\\x80\\x99\\xe6\\x98\\xaf\\xe7\\xac\\xac', 6, '\\xe6\\xac\\xa1\\xe7\\x9a\\x84hello')\n",
            "('\\xe9\\x80\\x99\\xe6\\x98\\xaf\\xe7\\xac\\xac', 7, '\\xe6\\xac\\xa1\\xe7\\x9a\\x84hello')\n",
            "('\\xe9\\x80\\x99\\xe6\\x98\\xaf\\xe7\\xac\\xac', 8, '\\xe6\\xac\\xa1\\xe7\\x9a\\x84hello')\n",
            "('\\xe9\\x80\\x99\\xe6\\x98\\xaf\\xe7\\xac\\xac', 9, '\\xe6\\xac\\xa1\\xe7\\x9a\\x84hello')\n",
            "('\\xe9\\x80\\x99\\xe6\\x98\\xaf\\xe7\\xac\\xac', 10, '\\xe6\\xac\\xa1\\xe7\\x9a\\x84hello')\n"
          ],
          "name": "stdout"
        }
      ]
    },
    {
      "cell_type": "code",
      "metadata": {
        "id": "f3WndiOD2zYl",
        "colab_type": "code",
        "colab": {
          "base_uri": "https://localhost:8080/",
          "height": 34
        },
        "outputId": "eb38eb56-afc3-4313-f796-b73fae3f13ce"
      },
      "source": [
        "\n",
        "x=5\n",
        "if x<10:\n",
        "   print(\"x小於10!\")"
      ],
      "execution_count": 4,
      "outputs": [
        {
          "output_type": "stream",
          "text": [
            "x小於10!\n"
          ],
          "name": "stdout"
        }
      ]
    },
    {
      "cell_type": "code",
      "metadata": {
        "id": "21Lcyr0225xC",
        "colab_type": "code",
        "colab": {
          "base_uri": "https://localhost:8080/",
          "height": 34
        },
        "outputId": "b332d53e-2cf8-4288-df36-06f66dd372ab"
      },
      "source": [
        "\n",
        "x=0\n",
        "result=0\n",
        "end=50\n",
        "while result <= end:\n",
        "   x=x+1\n",
        "   result = result+x\n",
        "print(\"最後加的x是\",x)"
      ],
      "execution_count": 5,
      "outputs": [
        {
          "output_type": "stream",
          "text": [
            "('\\xe6\\x9c\\x80\\xe5\\xbe\\x8c\\xe5\\x8a\\xa0\\xe7\\x9a\\x84x\\xe6\\x98\\xaf', 10)\n"
          ],
          "name": "stdout"
        }
      ]
    },
    {
      "cell_type": "code",
      "metadata": {
        "id": "PbuDOHVf27xJ",
        "colab_type": "code",
        "colab": {
          "base_uri": "https://localhost:8080/",
          "height": 102
        },
        "outputId": "8f1e011d-24c4-44e8-88ca-04cc5164df81"
      },
      "source": [
        "sum=0\n",
        "x=1\n",
        "while x<11:\n",
        "   sum = sum+x\n",
        "   x = x+2\n",
        "   print(\"1+3+5+7+9\",sum)"
      ],
      "execution_count": 6,
      "outputs": [
        {
          "output_type": "stream",
          "text": [
            "('1+3+5+7+9', 1)\n",
            "('1+3+5+7+9', 4)\n",
            "('1+3+5+7+9', 9)\n",
            "('1+3+5+7+9', 16)\n",
            "('1+3+5+7+9', 25)\n"
          ],
          "name": "stdout"
        }
      ]
    },
    {
      "cell_type": "code",
      "metadata": {
        "id": "GVAbuc6n2-Xw",
        "colab_type": "code",
        "colab": {
          "base_uri": "https://localhost:8080/",
          "height": 34
        },
        "outputId": "0c2153b3-b43d-4496-d4df-5a4e3953998a"
      },
      "source": [
        "sum = 0\n",
        "i = 0\n",
        "while sum <= 1000:\n",
        " i += 1\n",
        " sum += i*i\n",
        "print('最⼩的n值為', i)"
      ],
      "execution_count": 7,
      "outputs": [
        {
          "output_type": "stream",
          "text": [
            "('\\xe6\\x9c\\x80\\xe2\\xbc\\xa9\\xe7\\x9a\\x84n\\xe5\\x80\\xbc\\xe7\\x82\\xba', 14)\n"
          ],
          "name": "stdout"
        }
      ]
    },
    {
      "cell_type": "code",
      "metadata": {
        "id": "J0xyWQVG3BHf",
        "colab_type": "code",
        "colab": {
          "base_uri": "https://localhost:8080/",
          "height": 102
        },
        "outputId": "0cc158c6-d0ee-4193-ae59-44f0d79a945c"
      },
      "source": [
        "M = int(input('請輸入限制值M?')) \n",
        "factorial = 1\n",
        "i = 1\n",
        "\n",
        "while(factorial < M):\n",
        "  i = i+1\n",
        "  factorial = factorial*i\n",
        "  print(i,'階乘為',factorial,'其值大於',M)"
      ],
      "execution_count": 8,
      "outputs": [
        {
          "output_type": "stream",
          "text": [
            "請輸入限制值M?100\n",
            "(2, '\\xe9\\x9a\\x8e\\xe4\\xb9\\x98\\xe7\\x82\\xba', 2, '\\xe5\\x85\\xb6\\xe5\\x80\\xbc\\xe5\\xa4\\xa7\\xe6\\x96\\xbc', 100)\n",
            "(3, '\\xe9\\x9a\\x8e\\xe4\\xb9\\x98\\xe7\\x82\\xba', 6, '\\xe5\\x85\\xb6\\xe5\\x80\\xbc\\xe5\\xa4\\xa7\\xe6\\x96\\xbc', 100)\n",
            "(4, '\\xe9\\x9a\\x8e\\xe4\\xb9\\x98\\xe7\\x82\\xba', 24, '\\xe5\\x85\\xb6\\xe5\\x80\\xbc\\xe5\\xa4\\xa7\\xe6\\x96\\xbc', 100)\n",
            "(5, '\\xe9\\x9a\\x8e\\xe4\\xb9\\x98\\xe7\\x82\\xba', 120, '\\xe5\\x85\\xb6\\xe5\\x80\\xbc\\xe5\\xa4\\xa7\\xe6\\x96\\xbc', 100)\n"
          ],
          "name": "stdout"
        }
      ]
    },
    {
      "cell_type": "code",
      "metadata": {
        "id": "q1Uc_CaP3D6-",
        "colab_type": "code",
        "colab": {}
      },
      "source": [
        ""
      ],
      "execution_count": 0,
      "outputs": []
    }
  ]
}