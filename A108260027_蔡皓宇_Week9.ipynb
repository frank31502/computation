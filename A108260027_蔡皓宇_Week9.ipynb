{
  "nbformat": 4,
  "nbformat_minor": 0,
  "metadata": {
    "colab": {
      "name": "A108260027-蔡皓宇-Week9.ipynb",
      "provenance": [],
      "include_colab_link": true
    },
    "kernelspec": {
      "name": "python3",
      "display_name": "Python 3"
    }
  },
  "cells": [
    {
      "cell_type": "markdown",
      "metadata": {
        "id": "view-in-github",
        "colab_type": "text"
      },
      "source": [
        "<a href=\"https://colab.research.google.com/github/frank31502/computation/blob/master/A108260027_%E8%94%A1%E7%9A%93%E5%AE%87_Week9.ipynb\" target=\"_parent\"><img src=\"https://colab.research.google.com/assets/colab-badge.svg\" alt=\"Open In Colab\"/></a>"
      ]
    },
    {
      "cell_type": "code",
      "metadata": {
        "id": "U7UZ5u7au7w0",
        "colab_type": "code",
        "colab": {
          "base_uri": "https://localhost:8080/",
          "height": 51
        },
        "outputId": "cdbd7bad-7fa7-41b1-a12e-9c35b7f72954"
      },
      "source": [
        "score=int(input('請輸入一個成績?'))\n",
        "if score>=60:\n",
        "    print('很好')"
      ],
      "execution_count": 2,
      "outputs": [
        {
          "output_type": "stream",
          "text": [
            "請輸入一個成績?60\n",
            "很好\n"
          ],
          "name": "stdout"
        }
      ]
    },
    {
      "cell_type": "code",
      "metadata": {
        "id": "6TWjSl9-vj1v",
        "colab_type": "code",
        "colab": {
          "base_uri": "https://localhost:8080/",
          "height": 51
        },
        "outputId": "91b9dded-ce16-4203-c6b7-3a312b3e012b"
      },
      "source": [
        "cost=int(input('請輸入購買金額?'))\n",
        "if cost>=2000:\n",
        "    print(cost*0.9)\n",
        "else:\n",
        "    print(cost)"
      ],
      "execution_count": 7,
      "outputs": [
        {
          "output_type": "stream",
          "text": [
            "請輸入購買金額?2000\n",
            "1800.0\n"
          ],
          "name": "stdout"
        }
      ]
    },
    {
      "cell_type": "code",
      "metadata": {
        "id": "XuqBGGtWvqck",
        "colab_type": "code",
        "colab": {
          "base_uri": "https://localhost:8080/",
          "height": 51
        },
        "outputId": "5ea9cff8-3700-4512-c0d0-ff916fd093bd"
      },
      "source": [
        "num=int(input('請輸入一個整數?'))\n",
        "if num%2:\n",
        "    print(num,'為奇數')\n",
        "else:\n",
        "    print(num,'為偶數')"
      ],
      "execution_count": 8,
      "outputs": [
        {
          "output_type": "stream",
          "text": [
            "請輸入一個整數?13\n",
            "13 為奇數\n"
          ],
          "name": "stdout"
        }
      ]
    },
    {
      "cell_type": "code",
      "metadata": {
        "id": "jWv7gSxrvvNo",
        "colab_type": "code",
        "colab": {
          "base_uri": "https://localhost:8080/",
          "height": 51
        },
        "outputId": "1c763027-83c0-4e1e-8e46-2fcce9d923c9"
      },
      "source": [
        "m=int(input(\"請輸入價錢?\"))\n",
        "if m>=2000:\n",
        "    print(m*0.9)\n",
        "else:\n",
        "    print(m)"
      ],
      "execution_count": 9,
      "outputs": [
        {
          "output_type": "stream",
          "text": [
            "請輸入價錢?5000\n",
            "4500.0\n"
          ],
          "name": "stdout"
        }
      ]
    },
    {
      "cell_type": "code",
      "metadata": {
        "id": "qHBLcGQsvzx_",
        "colab_type": "code",
        "colab": {}
      },
      "source": [
        ""
      ],
      "execution_count": 0,
      "outputs": []
    }
  ]
}